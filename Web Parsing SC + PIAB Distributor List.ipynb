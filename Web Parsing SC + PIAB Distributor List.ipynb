{
 "cells": [
  {
   "cell_type": "code",
   "execution_count": 265,
   "metadata": {},
   "outputs": [],
   "source": [
    "import requests\n",
    "from bs4 import BeautifulSoup\n",
    "import ast\n",
    "import pandas as pd"
   ]
  },
  {
   "cell_type": "code",
   "execution_count": 266,
   "metadata": {},
   "outputs": [],
   "source": [
    "website = 'https://www.schmalz.com/en/services/consultation/select-customer-adviser/international-sales-partner/'\n",
    "data = requests.get(website).text\n",
    "soup = BeautifulSoup(data,'lxml')"
   ]
  },
  {
   "cell_type": "code",
   "execution_count": 267,
   "metadata": {},
   "outputs": [],
   "source": [
    "#Collect HTML associated with Google Maps then remove starting and ending [ ]\n",
    "gmap_string = soup.find('div',id='map')['data-markers'][1:-1]\n",
    "#Split the string for each sales partner or subsidiary based on the string structure containing dictionnaries for each entry\n",
    "list_partners = [x+'}' for x in gmap_string.split('},')]\n",
    "#Manually correct an anomaly that caused 2 } brackets for index 82\n",
    "list_partners[82] = list_partners[82][:-1]\n",
    "#Convert all dictionnary strings into python dictionnaries \n",
    "list_partners = [ast.literal_eval(x) for x in list_partners]"
   ]
  },
  {
   "cell_type": "code",
   "execution_count": 268,
   "metadata": {},
   "outputs": [],
   "source": [
    "def get_index_substring(t_strings,substring):\n",
    "    #Get index of first string element in t_strings that contains substring\n",
    "    return next(i for (i,string) in enumerate(t_strings) if substring in string)\n",
    "\n",
    "\n",
    "def info_to_dict(partner_dict):\n",
    "    #Make the html key of the partner dictionnary information into a new structured dictionnary containing name, address, contact information\n",
    "    #website and Schmalz business units\n",
    "    temp_soup = BeautifulSoup(partner_dict['html'],'lxml')\n",
    "    list_info = temp_soup.get_text(separator = ',').split(',')\n",
    "    \n",
    "    #Create through trial and error multiple local dictionnaries to concatenate with the original dictionnary\n",
    "    try:\n",
    "        tel_index = get_index_substring(list_info,'T:')\n",
    "        res_dicotel = {'Telephone':list_info[tel_index]}\n",
    "        partner_dict.update(res_dicotel)\n",
    "    except:\n",
    "        pass\n",
    "    try:\n",
    "        web_index = get_index_substring(list_info,'www.')\n",
    "        res_dicoweb = {'Website':list_info[web_index]}\n",
    "        partner_dict.update(res_dicoweb)\n",
    "    except:\n",
    "        pass\n",
    "    try:\n",
    "        mail_index = get_index_substring(list_info,'@')\n",
    "        res_dicomail = {'Email':list_info[mail_index]}\n",
    "        partner_dict.update(res_dicomail)\n",
    "    except:\n",
    "        pass\n",
    "    partner_dict.update({'Address':','.join(list_info[1:tel_index-1])})\n",
    "    del partner_dict['html']\n",
    "    return partner_dict"
   ]
  },
  {
   "cell_type": "code",
   "execution_count": 269,
   "metadata": {},
   "outputs": [],
   "source": [
    "#Get updated info for all partners\n",
    "list_partners = [info_to_dict(x) for x in list_partners]"
   ]
  },
  {
   "cell_type": "code",
   "execution_count": 270,
   "metadata": {
    "scrolled": true
   },
   "outputs": [],
   "source": [
    "#Create a DataFrame of the partners and use Python Geopy to get Country from Latitude and Longitude Column\n",
    "from geopy.geocoders import Nominatim\n",
    "geolocator = Nominatim()\n",
    "df = pd.DataFrame(list_partners)\n",
    "country_get = lambda x: geolocator.reverse(str(x[0])+','+str(x[1])).raw['address']['country']\n",
    "df['Country'] = df[['lat','lng']].apply(country_get,axis=1)"
   ]
  },
  {
   "cell_type": "code",
   "execution_count": 271,
   "metadata": {},
   "outputs": [
    {
     "data": {
      "text/html": [
       "<div>\n",
       "<style scoped>\n",
       "    .dataframe tbody tr th:only-of-type {\n",
       "        vertical-align: middle;\n",
       "    }\n",
       "\n",
       "    .dataframe tbody tr th {\n",
       "        vertical-align: top;\n",
       "    }\n",
       "\n",
       "    .dataframe thead th {\n",
       "        text-align: right;\n",
       "    }\n",
       "</style>\n",
       "<table border=\"1\" class=\"dataframe\">\n",
       "  <thead>\n",
       "    <tr style=\"text-align: right;\">\n",
       "      <th></th>\n",
       "      <th>Address</th>\n",
       "      <th>Email</th>\n",
       "      <th>Telephone</th>\n",
       "      <th>Website</th>\n",
       "      <th>lat</th>\n",
       "      <th>lng</th>\n",
       "      <th>name</th>\n",
       "      <th>type</th>\n",
       "      <th>Country</th>\n",
       "    </tr>\n",
       "  </thead>\n",
       "  <tbody>\n",
       "    <tr>\n",
       "      <th>0</th>\n",
       "      <td>Street 3, New Borg el Arab 21934, Egypt</td>\n",
       "      <td>sales@unitelegypt.com</td>\n",
       "      <td>T: +20(0)3 459 2070</td>\n",
       "      <td>www.unitelegypt.com</td>\n",
       "      <td>30.8854</td>\n",
       "      <td>29.5770</td>\n",
       "      <td>Unitel Co. Material Handling Division</td>\n",
       "      <td>dealer</td>\n",
       "      <td>مصر</td>\n",
       "    </tr>\n",
       "    <tr>\n",
       "      <th>1</th>\n",
       "      <td>M. Moreno 6546, B1875BLR Wilde, Buenos Aires, ...</td>\n",
       "      <td>afernandez@micro.com.ar</td>\n",
       "      <td>T: +54 911 5062-7531</td>\n",
       "      <td>www.microautomacion.com</td>\n",
       "      <td>-34.7062</td>\n",
       "      <td>-58.3127</td>\n",
       "      <td>Automación Micromecánica S.A.I.C.</td>\n",
       "      <td>dealer</td>\n",
       "      <td>Argentina</td>\n",
       "    </tr>\n",
       "    <tr>\n",
       "      <th>2</th>\n",
       "      <td>A Schmalz Company,25 Turbo Drive, AUS-3153 Bay...</td>\n",
       "      <td>sales@millsom.com.au</td>\n",
       "      <td>T: +61 3 9720 7966</td>\n",
       "      <td>www.millsomhoists.com.au</td>\n",
       "      <td>-37.8255</td>\n",
       "      <td>145.2750</td>\n",
       "      <td>Millsom Hoists PTY. LTD&lt;br \\/&gt;A Schmalz Company</td>\n",
       "      <td>dealer</td>\n",
       "      <td>Australia</td>\n",
       "    </tr>\n",
       "    <tr>\n",
       "      <th>3</th>\n",
       "      <td>Ulica Toma Zupana 16, SI-4202 Naklo</td>\n",
       "      <td>andraz.potocnik@mb-naklo.si</td>\n",
       "      <td>T: +386 42771713</td>\n",
       "      <td>www.mb-naklo.si</td>\n",
       "      <td>46.2712</td>\n",
       "      <td>14.3171</td>\n",
       "      <td>MB-NAKLO d.o.o.</td>\n",
       "      <td>dealer</td>\n",
       "      <td>Slovenija</td>\n",
       "    </tr>\n",
       "    <tr>\n",
       "      <th>4</th>\n",
       "      <td>Miklavska c53c, Spodnje Hoce, 2311 Hoce</td>\n",
       "      <td>saso.vrecar@zlatorogoprema.si</td>\n",
       "      <td>T: +386 2 6130875</td>\n",
       "      <td>www.zlatorogoprema.si</td>\n",
       "      <td>46.4980</td>\n",
       "      <td>15.6430</td>\n",
       "      <td>Zlatorog Oprema d.o.o.</td>\n",
       "      <td>dealer</td>\n",
       "      <td>Slovenija</td>\n",
       "    </tr>\n",
       "  </tbody>\n",
       "</table>\n",
       "</div>"
      ],
      "text/plain": [
       "                                             Address  \\\n",
       "0            Street 3, New Borg el Arab 21934, Egypt   \n",
       "1  M. Moreno 6546, B1875BLR Wilde, Buenos Aires, ...   \n",
       "2  A Schmalz Company,25 Turbo Drive, AUS-3153 Bay...   \n",
       "3                Ulica Toma Zupana 16, SI-4202 Naklo   \n",
       "4            Miklavska c53c, Spodnje Hoce, 2311 Hoce   \n",
       "\n",
       "                           Email             Telephone  \\\n",
       "0          sales@unitelegypt.com   T: +20(0)3 459 2070   \n",
       "1        afernandez@micro.com.ar  T: +54 911 5062-7531   \n",
       "2           sales@millsom.com.au    T: +61 3 9720 7966   \n",
       "3    andraz.potocnik@mb-naklo.si      T: +386 42771713   \n",
       "4  saso.vrecar@zlatorogoprema.si     T: +386 2 6130875   \n",
       "\n",
       "                    Website      lat       lng  \\\n",
       "0       www.unitelegypt.com  30.8854   29.5770   \n",
       "1   www.microautomacion.com -34.7062  -58.3127   \n",
       "2  www.millsomhoists.com.au -37.8255  145.2750   \n",
       "3           www.mb-naklo.si  46.2712   14.3171   \n",
       "4     www.zlatorogoprema.si  46.4980   15.6430   \n",
       "\n",
       "                                              name    type    Country  \n",
       "0            Unitel Co. Material Handling Division  dealer        مصر  \n",
       "1                Automación Micromecánica S.A.I.C.  dealer  Argentina  \n",
       "2  Millsom Hoists PTY. LTD<br \\/>A Schmalz Company  dealer  Australia  \n",
       "3                                  MB-NAKLO d.o.o.  dealer  Slovenija  \n",
       "4                           Zlatorog Oprema d.o.o.  dealer  Slovenija  "
      ]
     },
     "execution_count": 271,
     "metadata": {},
     "output_type": "execute_result"
    }
   ],
   "source": [
    "df.head()"
   ]
  },
  {
   "cell_type": "code",
   "execution_count": 272,
   "metadata": {
    "scrolled": true
   },
   "outputs": [],
   "source": [
    "#df.to_csv(r'C:\\Users\\Stephane\\Desktop\\SC_distrib.csv',index=False)"
   ]
  },
  {
   "cell_type": "markdown",
   "metadata": {},
   "source": [
    "# PIAB Distribution List "
   ]
  },
  {
   "cell_type": "code",
   "execution_count": 273,
   "metadata": {},
   "outputs": [],
   "source": [
    "piab_url = 'https://www.piab.com/en-US/where-to-buy/'"
   ]
  }
 ],
 "metadata": {
  "kernelspec": {
   "display_name": "Python 3",
   "language": "python",
   "name": "python3"
  },
  "language_info": {
   "codemirror_mode": {
    "name": "ipython",
    "version": 3
   },
   "file_extension": ".py",
   "mimetype": "text/x-python",
   "name": "python",
   "nbconvert_exporter": "python",
   "pygments_lexer": "ipython3",
   "version": "3.6.4"
  }
 },
 "nbformat": 4,
 "nbformat_minor": 2
}
